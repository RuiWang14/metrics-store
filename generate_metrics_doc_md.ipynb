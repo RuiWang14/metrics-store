{
 "cells": [
  {
   "cell_type": "code",
   "execution_count": 1,
   "metadata": {},
   "outputs": [],
   "source": [
    "import os"
   ]
  },
  {
   "cell_type": "code",
   "execution_count": 2,
   "metadata": {},
   "outputs": [],
   "source": [
    "# exact metrics info from file\n",
    "def get_metrics(path):\n",
    "    with open(path, 'r') as f:\n",
    "        lines = f.readlines()\n",
    "\n",
    "    metrics = {}\n",
    "    for li in lines:\n",
    "\n",
    "        if not li.startswith('#'):\n",
    "            continue\n",
    "\n",
    "        words_list = li[:-1].split(' ')\n",
    "        name = words_list[2]\n",
    "\n",
    "        if name not in metrics:\n",
    "            metrics[name] = {}\n",
    "\n",
    "        metrics[name][words_list[1]] = ' '.join(words_list[3:])\n",
    "        \n",
    "    return metrics"
   ]
  },
  {
   "cell_type": "code",
   "execution_count": 3,
   "metadata": {},
   "outputs": [],
   "source": [
    "base_path = './istio_metrics_example/'\n",
    "paths = os.listdir(base_path)\n",
    "\n",
    "# write metrics info to metrics_doc.md\n",
    "with open('metrics_doc.md','w') as f:\n",
    "    \n",
    "    for p in paths:\n",
    "\n",
    "        f.write('### %s\\n' % p)\n",
    "\n",
    "        metrics = get_metrics(base_path + p)\n",
    "\n",
    "        f.write('|name|help|type|\\n')\n",
    "        f.write('|---|---|---|\\n')\n",
    "        for k in metrics:\n",
    "            met = metrics[k]\n",
    "            hh = met['HELP'] if 'HELP' in met else ''\n",
    "            tt = met['TYPE'] if 'TYPE' in met else ''\n",
    "            f.write('|%s|%s|%s|\\n' % (k, hh, tt))"
   ]
  },
  {
   "cell_type": "code",
   "execution_count": null,
   "metadata": {},
   "outputs": [],
   "source": []
  }
 ],
 "metadata": {
  "kernelspec": {
   "display_name": "Python 3",
   "language": "python",
   "name": "python3"
  },
  "language_info": {
   "codemirror_mode": {
    "name": "ipython",
    "version": 3
   },
   "file_extension": ".py",
   "mimetype": "text/x-python",
   "name": "python",
   "nbconvert_exporter": "python",
   "pygments_lexer": "ipython3",
   "version": "3.7.0"
  }
 },
 "nbformat": 4,
 "nbformat_minor": 2
}
